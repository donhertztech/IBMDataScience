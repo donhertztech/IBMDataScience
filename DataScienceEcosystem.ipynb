{
  "nbformat": 4,
  "nbformat_minor": 0,
  "metadata": {
    "colab": {
      "provenance": [],
      "authorship_tag": "ABX9TyPnoI6IHprtwAi7bbh1z/Ky",
      "include_colab_link": true
    },
    "kernelspec": {
      "name": "python3",
      "display_name": "Python 3"
    },
    "language_info": {
      "name": "python"
    }
  },
  "cells": [
    {
      "cell_type": "markdown",
      "metadata": {
        "id": "view-in-github",
        "colab_type": "text"
      },
      "source": [
        "<a href=\"https://colab.research.google.com/github/donhertztech/IBMDataScience/blob/main/DataScienceEcosystem.ipynb\" target=\"_parent\"><img src=\"https://colab.research.google.com/assets/colab-badge.svg\" alt=\"Open In Colab\"/></a>"
      ]
    },
    {
      "cell_type": "markdown",
      "source": [
        "# **DataScienceEcosystem**\n",
        "\n"
      ],
      "metadata": {
        "id": "FdQl-LGHvKQo"
      }
    },
    {
      "cell_type": "markdown",
      "source": [
        "# In this notebook, Data Science Tools and Ecosystem are summarized."
      ],
      "metadata": {
        "id": "Q2-IZKlzwHme"
      }
    },
    {
      "cell_type": "markdown",
      "source": [
        "**Objectives:**\n",
        "*   Create a Jupyter Notebook\n",
        "*   Insert code and markdown cells\n",
        "*   Share your notebook through GitHub\n",
        "\n"
      ],
      "metadata": {
        "id": "XX7oySMy1Cvc"
      }
    },
    {
      "cell_type": "markdown",
      "source": [
        "Some of the popular languages that Data Scientists use are:\n",
        "1.   Python\n",
        "2.   R\n",
        "3.   Julia\n",
        "\n",
        "\n",
        "\n",
        "\n",
        "\n",
        "\n"
      ],
      "metadata": {
        "id": "VaTGS9VkwVz6"
      }
    },
    {
      "cell_type": "markdown",
      "source": [
        "Some of the commonly used libraries used by Data Scientists include:\n",
        "1.   Pandas\n",
        "2.   Matplotlib\n",
        "3.   Numpy\n",
        "\n",
        "\n",
        "\n"
      ],
      "metadata": {
        "id": "bKIBvh-ZxA5P"
      }
    },
    {
      "cell_type": "markdown",
      "source": [
        "|Data Science Tools|\n",
        "|----|\n",
        "| Google Colab|\n",
        "| Jupyter Notebook|\n",
        "| Visual Studio Code|"
      ],
      "metadata": {
        "id": "TS8wiWlWxdKv"
      }
    },
    {
      "cell_type": "markdown",
      "source": [
        "Below are a few examples of evaluating arithmetic expressions in Python."
      ],
      "metadata": {
        "id": "rJyYDyv3zInK"
      }
    },
    {
      "cell_type": "markdown",
      "source": [
        "This a simple arithmetic expression to mutiply then add integers"
      ],
      "metadata": {
        "id": "u6eUXjpHzYK9"
      }
    },
    {
      "cell_type": "code",
      "source": [
        "(3*4)+5"
      ],
      "metadata": {
        "colab": {
          "base_uri": "https://localhost:8080/"
        },
        "id": "DIrtHO4IzaAv",
        "outputId": "a63414d7-f576-4aaf-ac48-3c4f62817614"
      },
      "execution_count": 1,
      "outputs": [
        {
          "output_type": "execute_result",
          "data": {
            "text/plain": [
              "17"
            ]
          },
          "metadata": {},
          "execution_count": 1
        }
      ]
    },
    {
      "cell_type": "markdown",
      "source": [
        "This will convert 200 minutes to hours by diving by 60"
      ],
      "metadata": {
        "id": "dQgpry5rzshS"
      }
    },
    {
      "cell_type": "code",
      "source": [
        "horas = 0\n",
        "minutos = 0\n",
        "\n",
        "horas = int(200/60)\n",
        "minutos = 200%60\n",
        "\n",
        "print('H:', horas,'M:', minutos)"
      ],
      "metadata": {
        "colab": {
          "base_uri": "https://localhost:8080/"
        },
        "id": "vt8-d2TSztFD",
        "outputId": "afe19b1a-e9a6-468f-8543-098a2a7dadb6"
      },
      "execution_count": 9,
      "outputs": [
        {
          "output_type": "stream",
          "name": "stdout",
          "text": [
            "H: 3 M: 20\n"
          ]
        }
      ]
    },
    {
      "cell_type": "markdown",
      "source": [
        "# Author\n",
        "Aarón García Campos"
      ],
      "metadata": {
        "id": "OlqVkO7P1lgr"
      }
    }
  ]
}